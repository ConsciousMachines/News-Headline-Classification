{
 "cells": [
  {
   "cell_type": "code",
   "execution_count": 2,
   "id": "20e26a6d-8d36-492e-a417-457b5dcd6ac9",
   "metadata": {
    "execution": {
     "iopub.execute_input": "2025-08-28T15:19:01.420518Z",
     "iopub.status.busy": "2025-08-28T15:19:01.420131Z",
     "iopub.status.idle": "2025-08-28T15:19:05.102129Z",
     "shell.execute_reply": "2025-08-28T15:19:05.101161Z",
     "shell.execute_reply.started": "2025-08-28T15:19:01.420489Z"
    }
   },
   "outputs": [
    {
     "name": "stdout",
     "output_type": "stream",
     "text": [
      "Requirement already satisfied: transformers==4.49 in /opt/conda/lib/python3.12/site-packages (4.49.0)\n",
      "Requirement already satisfied: filelock in /opt/conda/lib/python3.12/site-packages (from transformers==4.49) (3.19.1)\n",
      "Requirement already satisfied: huggingface-hub<1.0,>=0.26.0 in /opt/conda/lib/python3.12/site-packages (from transformers==4.49) (0.34.4)\n",
      "Requirement already satisfied: numpy>=1.17 in /opt/conda/lib/python3.12/site-packages (from transformers==4.49) (1.26.4)\n",
      "Requirement already satisfied: packaging>=20.0 in /opt/conda/lib/python3.12/site-packages (from transformers==4.49) (24.2)\n",
      "Requirement already satisfied: pyyaml>=5.1 in /opt/conda/lib/python3.12/site-packages (from transformers==4.49) (6.0.2)\n",
      "Requirement already satisfied: regex!=2019.12.17 in /opt/conda/lib/python3.12/site-packages (from transformers==4.49) (2025.7.34)\n",
      "Requirement already satisfied: requests in /opt/conda/lib/python3.12/site-packages (from transformers==4.49) (2.32.4)\n",
      "Requirement already satisfied: tokenizers<0.22,>=0.21 in /opt/conda/lib/python3.12/site-packages (from transformers==4.49) (0.21.4)\n",
      "Requirement already satisfied: safetensors>=0.4.1 in /opt/conda/lib/python3.12/site-packages (from transformers==4.49) (0.6.2)\n",
      "Requirement already satisfied: tqdm>=4.27 in /opt/conda/lib/python3.12/site-packages (from transformers==4.49) (4.67.1)\n",
      "Requirement already satisfied: fsspec>=2023.5.0 in /opt/conda/lib/python3.12/site-packages (from huggingface-hub<1.0,>=0.26.0->transformers==4.49) (2024.12.0)\n",
      "Requirement already satisfied: hf-xet<2.0.0,>=1.1.3 in /opt/conda/lib/python3.12/site-packages (from huggingface-hub<1.0,>=0.26.0->transformers==4.49) (1.1.7)\n",
      "Requirement already satisfied: typing-extensions>=3.7.4.3 in /opt/conda/lib/python3.12/site-packages (from huggingface-hub<1.0,>=0.26.0->transformers==4.49) (4.14.1)\n",
      "Requirement already satisfied: charset_normalizer<4,>=2 in /opt/conda/lib/python3.12/site-packages (from requests->transformers==4.49) (3.4.3)\n",
      "Requirement already satisfied: idna<4,>=2.5 in /opt/conda/lib/python3.12/site-packages (from requests->transformers==4.49) (3.10)\n",
      "Requirement already satisfied: urllib3<3,>=1.21.1 in /opt/conda/lib/python3.12/site-packages (from requests->transformers==4.49) (1.26.19)\n",
      "Requirement already satisfied: certifi>=2017.4.17 in /opt/conda/lib/python3.12/site-packages (from requests->transformers==4.49) (2025.8.3)\n"
     ]
    }
   ],
   "source": [
    "!pip install transformers==4.49"
   ]
  },
  {
   "cell_type": "code",
   "execution_count": 3,
   "id": "ab26a7a2-496e-4af8-9f8d-66ab9f26e3ed",
   "metadata": {
    "execution": {
     "iopub.execute_input": "2025-08-28T15:19:24.900976Z",
     "iopub.status.busy": "2025-08-28T15:19:24.900389Z",
     "iopub.status.idle": "2025-08-28T15:19:27.342789Z",
     "shell.execute_reply": "2025-08-28T15:19:27.341974Z",
     "shell.execute_reply.started": "2025-08-28T15:19:24.900936Z"
    }
   },
   "outputs": [
    {
     "name": "stdout",
     "output_type": "stream",
     "text": [
      "sagemaker.config INFO - Not applying SDK defaults from location: /etc/xdg/sagemaker/config.yaml\n",
      "sagemaker.config INFO - Not applying SDK defaults from location: /home/sagemaker-user/.config/sagemaker/config.yaml\n",
      "ca-central-1\n",
      "arn:aws:iam::147795258718:role/service-role/AmazonSageMaker-ExecutionRole-20250827T010343\n",
      "Buckets in this account:\n",
      " - sagemaker-ca-central-1-147795258718\n",
      " - sagemaker-studio-147795258718-ywchj6yljj8\n",
      "['.bashrc', '.sagemaker_sql_editor_api_cache', '.local', '.ipython', '.npm', '.jupyter', '.ipynb_checkpoints', '.cache', '.config', 'user-default-efs', '.virtual_documents', '.keras', 'Deploy.ipynb']\n",
      "/home/sagemaker-user\n"
     ]
    }
   ],
   "source": [
    "import boto3\n",
    "import sagemaker\n",
    "import tarfile\n",
    "import os\n",
    "\n",
    "# check we are connected to the right region\n",
    "session = boto3.session.Session()\n",
    "print(session.region_name)\n",
    "\n",
    "# check role\n",
    "role = sagemaker.get_execution_role()\n",
    "print(role)\n",
    "\n",
    "# check if we can connect to the S3 bucket\n",
    "s3 = boto3.client(\"s3\")\n",
    "response = s3.list_buckets()\n",
    "print(\"Buckets in this account:\")\n",
    "for bucket in response[\"Buckets\"]:\n",
    "    print(\" -\", bucket[\"Name\"])\n",
    "\n",
    "# check directory + files\n",
    "root_dir = os.getcwd()\n",
    "print(os.listdir())\n",
    "print(root_dir)"
   ]
  },
  {
   "cell_type": "code",
   "execution_count": 5,
   "id": "0b6f149f-0198-4fae-9ed0-35f66884e86c",
   "metadata": {
    "execution": {
     "iopub.execute_input": "2025-08-28T15:20:43.195840Z",
     "iopub.status.busy": "2025-08-28T15:20:43.195551Z",
     "iopub.status.idle": "2025-08-28T15:20:43.245375Z",
     "shell.execute_reply": "2025-08-28T15:20:43.244523Z",
     "shell.execute_reply.started": "2025-08-28T15:20:43.195818Z"
    }
   },
   "outputs": [
    {
     "name": "stdout",
     "output_type": "stream",
     "text": [
      "True\n"
     ]
    }
   ],
   "source": [
    "# test if s3 file exists\n",
    "from botocore.exceptions import ClientError\n",
    "def s3_file_exists(s3_uri):\n",
    "    # Split the s3:// URI\n",
    "    parts = s3_uri.replace(\"s3://\", \"\").split(\"/\", 1)\n",
    "    bucket = parts[0]\n",
    "    key = parts[1] if len(parts) > 1 else \"\"\n",
    "    try:\n",
    "        s3.head_object(Bucket=bucket, Key=key)\n",
    "        return True\n",
    "    except ClientError as e:\n",
    "        if e.response['Error']['Code'] == \"404\":\n",
    "            return False\n",
    "        else:\n",
    "            raise\n",
    "model_s3_uri = \"s3://sagemaker-studio-147795258718-ywchj6yljj8/model.tar.gz\"\n",
    "print(s3_file_exists(model_s3_uri))"
   ]
  },
  {
   "cell_type": "code",
   "execution_count": 8,
   "id": "cabc943f-cb24-41d1-a786-becfe9163c74",
   "metadata": {
    "execution": {
     "iopub.execute_input": "2025-08-28T15:22:27.712907Z",
     "iopub.status.busy": "2025-08-28T15:22:27.712454Z",
     "iopub.status.idle": "2025-08-28T15:22:27.717445Z",
     "shell.execute_reply": "2025-08-28T15:22:27.716510Z",
     "shell.execute_reply.started": "2025-08-28T15:22:27.712878Z"
    }
   },
   "outputs": [
    {
     "name": "stdout",
     "output_type": "stream",
     "text": [
      "work_dir: /home/sagemaker-user\n"
     ]
    }
   ],
   "source": [
    "# define file locations\n",
    "work_dir = os.getcwd()\n",
    "print(f'work_dir: {work_dir}')\n",
    "model_base = 'model'\n",
    "# S3 locations\n",
    "s3_bucket_name = \"sagemaker-studio-147795258718-ywchj6yljj8\"\n",
    "s3_model_gz = f\"{model_base}.tar.gz\"\n",
    "# local locations\n",
    "local_model_gz  = os.path.join(work_dir, f\"{model_base}.tar.gz\")\n",
    "local_model_dir = os.path.join(work_dir, model_base)"
   ]
  },
  {
   "cell_type": "code",
   "execution_count": 9,
   "id": "1bd0aa16-764a-4d8b-a986-852b6d419024",
   "metadata": {
    "execution": {
     "iopub.execute_input": "2025-08-28T15:24:31.387962Z",
     "iopub.status.busy": "2025-08-28T15:24:31.387578Z",
     "iopub.status.idle": "2025-08-28T15:24:35.122478Z",
     "shell.execute_reply": "2025-08-28T15:24:35.121334Z",
     "shell.execute_reply.started": "2025-08-28T15:24:31.387930Z"
    }
   },
   "outputs": [
    {
     "name": "stdout",
     "output_type": "stream",
     "text": [
      "Tarfile Downloaded? True\n",
      "Model Exists? True\n"
     ]
    }
   ],
   "source": [
    "# download files from S3\n",
    "s3.download_file(s3_bucket_name, s3_model_gz, local_model_gz)\n",
    "# check if tar.gs is in sagemaker\n",
    "print(\"tarfile downloaded:\", os.path.exists(local_model_gz))\n",
    "# extract tar.gz\n",
    "with tarfile.open(local_model_gz, \"r:gz\") as tar:\n",
    "    tar.extractall(path=work_dir, filter='data')\n",
    "# check if model is in sagemaker\n",
    "print(\"model exists:\", os.path.exists(local_model_dir))"
   ]
  },
  {
   "cell_type": "code",
   "execution_count": 10,
   "id": "64d985de-dd2d-4532-abac-4710b2e3a70f",
   "metadata": {
    "execution": {
     "iopub.execute_input": "2025-08-28T15:25:53.201978Z",
     "iopub.status.busy": "2025-08-28T15:25:53.201686Z",
     "iopub.status.idle": "2025-08-28T15:26:07.131878Z",
     "shell.execute_reply": "2025-08-28T15:26:07.131067Z",
     "shell.execute_reply.started": "2025-08-28T15:25:53.201956Z"
    }
   },
   "outputs": [
    {
     "name": "stderr",
     "output_type": "stream",
     "text": [
      "2025-08-28 15:26:01.293029: I tensorflow/core/platform/cpu_feature_guard.cc:210] This TensorFlow binary is optimized to use available CPU instructions in performance-critical operations.\n",
      "To enable the following instructions: SSE4.1 SSE4.2 AVX AVX2 AVX512F FMA, in other operations, rebuild TensorFlow with the appropriate compiler flags.\n"
     ]
    },
    {
     "data": {
      "text/plain": [
       "DBERT_finetuned(\n",
       "  (l1): DistilBertModel(\n",
       "    (embeddings): Embeddings(\n",
       "      (word_embeddings): Embedding(30522, 768, padding_idx=0)\n",
       "      (position_embeddings): Embedding(512, 768)\n",
       "      (LayerNorm): LayerNorm((768,), eps=1e-12, elementwise_affine=True)\n",
       "      (dropout): Dropout(p=0.1, inplace=False)\n",
       "    )\n",
       "    (transformer): Transformer(\n",
       "      (layer): ModuleList(\n",
       "        (0-5): 6 x TransformerBlock(\n",
       "          (attention): DistilBertSdpaAttention(\n",
       "            (dropout): Dropout(p=0.1, inplace=False)\n",
       "            (q_lin): Linear(in_features=768, out_features=768, bias=True)\n",
       "            (k_lin): Linear(in_features=768, out_features=768, bias=True)\n",
       "            (v_lin): Linear(in_features=768, out_features=768, bias=True)\n",
       "            (out_lin): Linear(in_features=768, out_features=768, bias=True)\n",
       "          )\n",
       "          (sa_layer_norm): LayerNorm((768,), eps=1e-12, elementwise_affine=True)\n",
       "          (ffn): FFN(\n",
       "            (dropout): Dropout(p=0.1, inplace=False)\n",
       "            (lin1): Linear(in_features=768, out_features=3072, bias=True)\n",
       "            (lin2): Linear(in_features=3072, out_features=768, bias=True)\n",
       "            (activation): GELUActivation()\n",
       "          )\n",
       "          (output_layer_norm): LayerNorm((768,), eps=1e-12, elementwise_affine=True)\n",
       "        )\n",
       "      )\n",
       "    )\n",
       "  )\n",
       "  (pre_classifier): Linear(in_features=768, out_features=768, bias=True)\n",
       "  (relu): ReLU()\n",
       "  (dropout): Dropout(p=0.3, inplace=False)\n",
       "  (classifier): Linear(in_features=768, out_features=3, bias=True)\n",
       ")"
      ]
     },
     "execution_count": 10,
     "metadata": {},
     "output_type": "execute_result"
    }
   ],
   "source": [
    "# load model + weights\n",
    "import torch\n",
    "from transformers import DistilBertModel, DistilBertTokenizer\n",
    "\n",
    "class DBERT_finetuned(torch.nn.Module):\n",
    "\n",
    "    def __init__(self):\n",
    "\n",
    "        super().__init__()\n",
    "    \n",
    "        self.tokenizer      = DistilBertTokenizer.from_pretrained('distilbert-base-uncased')\n",
    "        self.l1             = DistilBertModel.from_pretrained('distilbert-base-uncased')\n",
    "        self.pre_classifier = torch.nn.Linear(768,768)\n",
    "        self.relu           = torch.nn.ReLU()\n",
    "        self.dropout        = torch.nn.Dropout(0.3)\n",
    "        self.classifier     = torch.nn.Linear(768,3)\n",
    "\n",
    "    def forward(self, input_ids, attention_mask):\n",
    "\n",
    "        output_1     = self.l1(input_ids=input_ids,attention_mask=attention_mask)\n",
    "        hidden_state = output_1[0]\n",
    "        x            = hidden_state[:,0]\n",
    "        x            = self.pre_classifier(x)\n",
    "        x            = self.relu(x)\n",
    "        x            = self.dropout(x)\n",
    "        x            = self.classifier(x)\n",
    "\n",
    "        return x\n",
    "\n",
    "model = DBERT_finetuned()\n",
    "model.load_state_dict(torch.load(local_model_dir, map_location=torch.device('cpu')))\n",
    "model.eval()"
   ]
  },
  {
   "cell_type": "code",
   "execution_count": 12,
   "id": "f4436297-2a92-4c9b-a62d-d73a7a5fd522",
   "metadata": {
    "execution": {
     "iopub.execute_input": "2025-08-28T15:29:26.296096Z",
     "iopub.status.busy": "2025-08-28T15:29:26.295796Z",
     "iopub.status.idle": "2025-08-28T15:29:26.318609Z",
     "shell.execute_reply": "2025-08-28T15:29:26.317646Z",
     "shell.execute_reply.started": "2025-08-28T15:29:26.296072Z"
    }
   },
   "outputs": [],
   "source": [
    "# load the test dataset\n",
    "import pandas as pd\n",
    "test_dataset = pd.read_csv(\"filename.csv\")"
   ]
  },
  {
   "cell_type": "code",
   "execution_count": 18,
   "id": "258b6a3a-a5c6-481c-8579-311131d62893",
   "metadata": {
    "execution": {
     "iopub.execute_input": "2025-08-28T15:32:53.198187Z",
     "iopub.status.busy": "2025-08-28T15:32:53.197821Z",
     "iopub.status.idle": "2025-08-28T15:38:54.569395Z",
     "shell.execute_reply": "2025-08-28T15:38:54.568277Z",
     "shell.execute_reply.started": "2025-08-28T15:32:53.198155Z"
    }
   },
   "outputs": [
    {
     "name": "stdout",
     "output_type": "stream",
     "text": [
      "\n",
      "model guess: positive\n",
      "correct: neutral\n",
      "Because expenditures must be justified to pass budget approval hurdles , we believe our RoP model can help make it easier for IT and IT security practitioners to make the business case for acquiring enabling security technologies and related control activities .\n",
      "\n",
      "model guess: neutral\n",
      "correct: positive\n",
      "fi is developing cooperation in keyword advertising with Microsoft .\n",
      "\n",
      "model guess: neutral\n",
      "correct: negative\n",
      "Finnish Scanfil , a systems supplier and contract manufacturer to the communications sector and the electronics industry , reports net sales of EUR 49.6 mn in the first quarter of 2009 , which are only a per cent smaller than in the corresponding period in 2008 .\n",
      "\n",
      "model guess: positive\n",
      "correct: negative\n",
      "ADP News - Apr 22 , 2009 - Finnish business information systems developer Solteq Oyj HEL : STQ1V said today its net loss widened to EUR 189,000 USD 245,000 for the first quarter of 2009 from EUR 10,000 for the same peri\n",
      "\n",
      "model guess: positive\n",
      "correct: neutral\n",
      "DnB Nord of Norway is the `` most likely Nordic buyer '' for Citadele , while Nordea would be a `` good strategic fit '' , according to the document published by Pietiek .\n",
      "\n",
      "model guess: neutral\n",
      "correct: positive\n",
      "According to Olvi 's Managing Director Lasse Aho , the company has an ongoing MMX Plus project that aims to find growth outside Finland .\n",
      "\n",
      "model guess: neutral\n",
      "correct: negative\n",
      "`` Those uncertainties cloud the long-term outlook . ''\n",
      "\n",
      "model guess: neutral\n",
      "correct: positive\n",
      "However , the broker gave an `` outperform '' recommendation on the stock .\n",
      "\n",
      "model guess: neutral\n",
      "correct: positive\n",
      "`` We have analyzed Kaupthing Bank Sweden and found a business which fits well into Alandsbanken , '' said Alandsbanken 's chief executive Peter Wiklof in a statement .\n",
      "\n",
      "model guess: neutral\n",
      "correct: positive\n",
      "OUTOTEC OYJ PRESS RELEASE DECEMBER 4 , 2009 10.30 AM Outotec establishes a new subsidiary in Kolkata Outotec has established a subsidiary in India in order to better serve its Indian customers and to increase its business in the growing Indian market .\n",
      "\n",
      "model guess: neutral\n",
      "correct: positive\n",
      "Our superior customer centricity and expertise in digital services set us apart from our competitors .\n",
      "\n",
      "model guess: positive\n",
      "correct: neutral\n",
      "Amer , which bought Salomon from adidas in October , said the job cuts are aimed at boosting competitiveness .\n",
      "\n",
      "model guess: neutral\n",
      "correct: positive\n",
      "Talvivaara also maintains its assumption of turning cash flow positive before the year end .\n",
      "\n",
      "model guess: neutral\n",
      "correct: positive\n",
      "A purchase agreement for 7,200 tons of gasoline with delivery at the Hamina terminal , Finland , was signed with Neste Oil OYj at the average Platts index for this September plus eight US dollars per month .\n",
      "\n",
      "model guess: neutral\n",
      "correct: positive\n",
      "The broker has initiated both Palfinger AG and Konecranes OYJ with ` buy ' recommendations , with 51 and 42 eur price targets respectively .\n",
      "\n",
      "model guess: neutral\n",
      "correct: positive\n",
      "Rautaruukki Corporation Stock exchange release 3 December 2009 at 12 noon Ruukki 's construction and engineering divisions are to further improve and adjust their operations in Finland .\n",
      "\n",
      "model guess: negative\n",
      "correct: positive\n",
      "Unit costs for flight operations fell by 6.4 percent .\n",
      "\n",
      "model guess: positive\n",
      "correct: neutral\n",
      "The electricity requirement of networks will grow with the new mobile generation .\n",
      "\n",
      "model guess: positive\n",
      "correct: neutral\n",
      "26 November 2010 - Finnish sports-equipment maker Amer Sports Oyj ( HEL : AMEAS ) said today it has obtained a EUR30m Schuldschein note loan from a pool of international investors .\n",
      "\n",
      "model guess: neutral\n",
      "correct: positive\n",
      "Under the agreement GeoSentric will provide GyPSii-powered hotel information and reservation services to visitors to China , including such popular cities as Beijing and Shanghai .\n",
      "\n",
      "model guess: neutral\n",
      "correct: positive\n",
      "Nyrstar has also agreed to supply to Talvivaara up to 150,000 tonnes of sulphuric acid per annum for use in Talvivaara 's leaching process during the period of supply of the zinc in concentrate .\n",
      "\n",
      "model guess: neutral\n",
      "correct: positive\n",
      "The two companies will also partner in further developing Raiso 's cholesterol lowering brand , Benecol .\n",
      "\n",
      "model guess: neutral\n",
      "correct: positive\n",
      "The transaction doubles Tecnomens workforse , and adds a fourth to their net sales .\n",
      "\n",
      "model guess: negative\n",
      "correct: positive\n",
      "Seppala 's revenue increased by 0.2 % to EUR10 .1 m. In Finland , revenue went down by 2.4 % to EUR6 .8 m , while sales abroad rose by 6.2 % to EUR3 .3 m. Sales increased in all the Baltic countries as well as in Russia and Ukraine .\n",
      "\n",
      "model guess: neutral\n",
      "correct: positive\n",
      "By implementing the software the Finnish Army aims to unify and improve its operations in these application areas , QPR Software stated .\n",
      "\n",
      "model guess: neutral\n",
      "correct: positive\n",
      "TELE2 Affarsvarlden gave a `` buy '' recommendation on mobile operator Tele2 AB and a share price target of 142 crowns ( $ 23.54 - 15.19 euro ) .\n",
      "\n",
      "model guess: neutral\n",
      "correct: positive\n",
      "`` After the share purchase is completed , financing will also be provided to expand Latvia 's broadband infrastructure and to develop new areas of business , including acquisitions of other companies . ''\n",
      "\n",
      "model guess: neutral\n",
      "correct: positive\n",
      "The concept enables a commercially affordable way to manufacture high-quality TCO coated glass for the solar industry .\n",
      "\n",
      "model guess: positive\n",
      "correct: neutral\n",
      "You are warmly welcome !\n",
      "\n",
      "model guess: neutral\n",
      "correct: positive\n",
      "This location makes the mall a convenient place to shop for consumers from three large residential areas nearby : Jaroszowka , Wysockiego and Zgody .\n",
      "\n",
      "model guess: positive\n",
      "correct: neutral\n",
      "It is necessary to strengthen the company 's operations , however .\n",
      "\n",
      "model guess: neutral\n",
      "correct: negative\n",
      "Since the association 's data do not cover sales figures from about 100 small local breweries and sales of imported beer products , the actual market shares of its members are smaller than those given in the report .\n",
      "\n",
      "model guess: neutral\n",
      "correct: negative\n",
      "Okmetic expects its net sales for the first half of 2009 to be less than in 2008 .\n",
      "\n",
      "model guess: neutral\n",
      "correct: positive\n",
      "The purpose of this action is to ensure company 's cost effectiveness this year and in the near future .\n",
      "\n",
      "model guess: neutral\n",
      "correct: negative\n",
      "The poorest index figure was given to Finnish power company Fortum , 4.5 .\n",
      "\n",
      "model guess: positive\n",
      "correct: negative\n",
      "Operating profit before non-recurring items was EUR 8.3 mn in the first nine months of 2008 , compared to EUR 8.4 in the corresponding period in 2007 .\n",
      "\n",
      "model guess: positive\n",
      "correct: neutral\n",
      "`` The industry is coming to an interesting fork in the road as both handset manufacturers and wireless carriers attempt to serve as the portal for Web-based service to your wireless handset , '' he wrote .\n",
      "\n",
      "model guess: neutral\n",
      "correct: positive\n",
      "NASDAQ-listed Yahoo Inc has introduced a new service that enables Malaysians to take their favorite Internet content and services with them on their mobile phones .\n",
      "\n",
      "model guess: neutral\n",
      "correct: positive\n",
      "The company plans to expand into the international market through its subsidiaries and distributors from 2011 onwards .\n",
      "\n",
      "model guess: neutral\n",
      "correct: positive\n",
      "Xerox and Stora Enso have teamed up to tailor the iGen3 to the short-run , on-demand packaging market .\n",
      "0.9420289855072463\n"
     ]
    },
    {
     "data": {
      "text/plain": [
       "1"
      ]
     },
     "execution_count": 18,
     "metadata": {},
     "output_type": "execute_result"
    }
   ],
   "source": [
    "# perform validation test\n",
    "MAX_LEN = 512\n",
    "device = torch.device(\"cuda\" if torch.cuda.is_available() else \"cpu\")\n",
    "\n",
    "encode_dict = {0:'neutral', 1:'positive', 2:'negative'}\n",
    "decode_dict = {j:i for i,j in encode_dict.items()}\n",
    "\n",
    "x = test_dataset.Headline\n",
    "y = test_dataset.ENCODE_CAT\n",
    "model.eval()\n",
    "\n",
    "num_correct = 0\n",
    "num_wrong = 0\n",
    "\n",
    "with torch.no_grad():\n",
    "\n",
    "    for i in range(x.size):\n",
    "        # print(i)\n",
    "\n",
    "        title = str(x[i])\n",
    "        title = \" \".join(title.split())\n",
    "        category = int(y[i])\n",
    "\n",
    "        inputs = model.tokenizer.encode_plus(\n",
    "            title,\n",
    "            None,\n",
    "            add_special_tokens=True,\n",
    "            max_length=MAX_LEN,\n",
    "            padding='max_length',\n",
    "            return_token_type_ids=True,\n",
    "            truncation=True\n",
    "        )\n",
    "        ids = inputs['input_ids']\n",
    "        mask = inputs['attention_mask']\n",
    "        data = {\n",
    "            'ids': torch.tensor(ids, dtype=torch.long),\n",
    "            'mask': torch.tensor(mask, dtype=torch.long),\n",
    "            # 'targets': torch.tensor(y[i], dtype=torch.long)\n",
    "        }\n",
    "\n",
    "        ids = data['ids'].unsqueeze(0).to(device, dtype = torch.long)\n",
    "        mask = data['mask'].unsqueeze(0).to(device, dtype = torch.long)\n",
    "        # targets = data['targets'].unsqueeze(0).to(device, dtype = torch.long)\n",
    "\n",
    "        outputs = model(ids, mask).squeeze()\n",
    "\n",
    "        _val, _idx = torch.max(outputs, dim=0)\n",
    "        \n",
    "        # check if model sentiment equals real sentiment\n",
    "        _model_guess = int(_idx)\n",
    "        if _model_guess == category:\n",
    "            num_correct += 1\n",
    "        else: \n",
    "            # print mistakes\n",
    "            print()\n",
    "            print(f'model guess: {encode_dict[_model_guess]}')\n",
    "            print(f'correct: {encode_dict[category]}')\n",
    "            print(title)\n",
    "            num_wrong += 1\n",
    "\n",
    "print(num_correct / (num_correct + num_wrong))"
   ]
  },
  {
   "cell_type": "code",
   "execution_count": 19,
   "id": "f892edf3-b5dd-448d-a571-7242ad4bee04",
   "metadata": {
    "execution": {
     "iopub.execute_input": "2025-08-28T15:39:42.680959Z",
     "iopub.status.busy": "2025-08-28T15:39:42.680302Z",
     "iopub.status.idle": "2025-08-28T15:39:42.688984Z",
     "shell.execute_reply": "2025-08-28T15:39:42.687466Z",
     "shell.execute_reply.started": "2025-08-28T15:39:42.680920Z"
    }
   },
   "outputs": [
    {
     "name": "stdout",
     "output_type": "stream",
     "text": [
      "validation score: 0.9420289855072463\n"
     ]
    }
   ],
   "source": [
    "print(f'validation score: {num_correct / (num_correct + num_wrong)}')"
   ]
  },
  {
   "cell_type": "code",
   "execution_count": 41,
   "id": "54e5cb33-130b-4a80-a322-fd78b1ad9b1b",
   "metadata": {
    "execution": {
     "iopub.execute_input": "2025-08-28T15:56:32.158927Z",
     "iopub.status.busy": "2025-08-28T15:56:32.158455Z",
     "iopub.status.idle": "2025-08-28T15:56:32.277572Z",
     "shell.execute_reply": "2025-08-28T15:56:32.276779Z",
     "shell.execute_reply.started": "2025-08-28T15:56:32.158897Z"
    }
   },
   "outputs": [
    {
     "name": "stdout",
     "output_type": "stream",
     "text": [
      "probabilities: [[0.19796720147132874, 0.02515009231865406, 0.7768826484680176]]\n",
      "predicted_label: negative\n"
     ]
    }
   ],
   "source": [
    "# manual testing\n",
    "input_data = \"Nasdaq edges down as Nvidia falls on China market uncertainty\"\n",
    "inputs = model.tokenizer(input_data, return_tensors=\"pt\")\n",
    "ids = inputs['input_ids']\n",
    "mask = inputs['attention_mask']\n",
    "\n",
    "with torch.no_grad():\n",
    "    outputs = model(ids, mask)\n",
    "probabilities = torch.softmax(outputs, dim = 1).numpy()\n",
    "predicted_class = probabilities.argmax(axis=1)[0]\n",
    "predicted_label = encode_dict[predicted_class]\n",
    "print(f'probabilities: {probabilities.tolist()}')\n",
    "print(f'predicted_label: {predicted_label}')"
   ]
  }
 ],
 "metadata": {
  "kernelspec": {
   "display_name": "Python 3 (ipykernel)",
   "language": "python",
   "name": "python3"
  },
  "language_info": {
   "codemirror_mode": {
    "name": "ipython",
    "version": 3
   },
   "file_extension": ".py",
   "mimetype": "text/x-python",
   "name": "python",
   "nbconvert_exporter": "python",
   "pygments_lexer": "ipython3",
   "version": "3.12.9"
  }
 },
 "nbformat": 4,
 "nbformat_minor": 5
}
