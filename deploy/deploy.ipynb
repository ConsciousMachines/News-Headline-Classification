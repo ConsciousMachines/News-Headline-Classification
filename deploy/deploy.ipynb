{
 "cells": [
  {
   "cell_type": "code",
   "execution_count": null,
   "id": "44b2ef34-deff-479b-95a5-c4dd0c2ea04b",
   "metadata": {
    "execution": {
     "iopub.execute_input": "2025-08-28T20:10:19.933495Z",
     "iopub.status.busy": "2025-08-28T20:10:19.931726Z",
     "iopub.status.idle": "2025-08-28T20:10:19.992335Z",
     "shell.execute_reply": "2025-08-28T20:10:19.991574Z",
     "shell.execute_reply.started": "2025-08-28T20:10:19.933462Z"
    }
   },
   "outputs": [],
   "source": [
    "# prepare sagemaker\n",
    "from sagemaker.huggingface import HuggingFaceModel\n",
    "from sagemaker import get_execution_role\n",
    "\n",
    "model_dir = 's3://sagemaker-studio-147795258718-ywchj6yljj8/model.tar.gz'\n",
    "endpoint_name = \"news-classification-endpointv0001\"\n",
    "\n",
    "role = get_execution_role()\n",
    "huggingface_model = HuggingFaceModel(\n",
    "    model_data = model_dir,\n",
    "    role = role,\n",
    "    transformers_version = \"4.49\",\n",
    "    pytorch_version = \"2.6\",\n",
    "    py_version = \"py312\",\n",
    "    entry_point = \"deploy.py\",\n",
    "    # name='load-test-model',\n",
    "    name='deployment-model',\n",
    ")\n",
    "\n",
    "def cleanup_sagemaker_endpoint(endpoint_name: str):\n",
    "    sm = boto3.client(\"sagemaker\")\n",
    "    \n",
    "    # delete endpoint (stops instance & billing)\n",
    "    try:\n",
    "        sm.delete_endpoint(EndpointName=endpoint_name)\n",
    "        print(f\"deleted endpoint: {endpoint_name}\")\n",
    "    except Exception as e:\n",
    "        print(f\"failed to delete endpoint {endpoint_name}: {e}\")\n",
    "\n",
    "    # delete endpoint config\n",
    "    try:\n",
    "        sm.delete_endpoint_config(EndpointConfigName=endpoint_name)\n",
    "        print(f\"deleted endpoint config: {endpoint_name}\")\n",
    "    except Exception as e:\n",
    "        print(f\"failed to delete endpoint config {endpoint_name}: {e}\")\n",
    "\n",
    "    # delete model\n",
    "    try:\n",
    "        sm.delete_model(ModelName=endpoint_name)\n",
    "        print(f\"deleted model: {endpoint_name}\")\n",
    "    except Exception as e:\n",
    "        print(f\"failed to delete model {endpoint_name}: {e}\")"
   ]
  },
  {
   "cell_type": "code",
   "execution_count": 71,
   "id": "f7669b1c-11ba-4776-bc35-eaaba58d183a",
   "metadata": {
    "execution": {
     "iopub.execute_input": "2025-08-28T20:10:21.637594Z",
     "iopub.status.busy": "2025-08-28T20:10:21.637311Z",
     "iopub.status.idle": "2025-08-28T20:14:12.731173Z",
     "shell.execute_reply": "2025-08-28T20:14:12.730340Z",
     "shell.execute_reply.started": "2025-08-28T20:10:21.637573Z"
    }
   },
   "outputs": [
    {
     "name": "stdout",
     "output_type": "stream",
     "text": [
      "------!"
     ]
    }
   ],
   "source": [
    "predictor = huggingface_model.deploy(\n",
    "    initial_instance_count = 1,\n",
    "    # instance_type = \"ml.t3.medium\",\n",
    "    # instance_type = \"ml.m5.xlarge\",\n",
    "    instance_type=\"ml.m5.large\",\n",
    "    endpoint_name=endpoint_name,\n",
    ")"
   ]
  },
  {
   "cell_type": "code",
   "execution_count": 73,
   "id": "9a37e8ca-9385-4b84-b4f1-6b7f27285367",
   "metadata": {
    "execution": {
     "iopub.execute_input": "2025-08-28T20:50:01.930175Z",
     "iopub.status.busy": "2025-08-28T20:50:01.929628Z",
     "iopub.status.idle": "2025-08-28T20:50:02.281107Z",
     "shell.execute_reply": "2025-08-28T20:50:02.278075Z",
     "shell.execute_reply.started": "2025-08-28T20:50:01.930140Z"
    }
   },
   "outputs": [
    {
     "data": {
      "text/plain": [
       "['{\"predicted_label\": \"negative\", \"probabilities\": [[0.19796720147132874, 0.02515009231865406, 0.7768826484680176]]}',\n",
       " 'application/json']"
      ]
     },
     "execution_count": 73,
     "metadata": {},
     "output_type": "execute_result"
    }
   ],
   "source": [
    "# data = {\"inputs\": \"Intel CFO says chipmaker has received $5.7 billion in outstanding CHIPS Act grants under Trump deal\"}\n",
    "data = {\"inputs\": \"Nasdaq edges down as Nvidia falls on China market uncertainty\"}\n",
    "\n",
    "prediction = predictor.predict(data)\n",
    "prediction"
   ]
  },
  {
   "cell_type": "code",
   "execution_count": 74,
   "id": "13372d1a-62e4-487a-b96c-135a4c446ece",
   "metadata": {
    "execution": {
     "iopub.execute_input": "2025-08-28T20:50:17.546003Z",
     "iopub.status.busy": "2025-08-28T20:50:17.545718Z",
     "iopub.status.idle": "2025-08-28T20:50:18.000489Z",
     "shell.execute_reply": "2025-08-28T20:50:17.999756Z",
     "shell.execute_reply.started": "2025-08-28T20:50:17.545981Z"
    }
   },
   "outputs": [
    {
     "name": "stdout",
     "output_type": "stream",
     "text": [
      "deleted endpoint: news-classification-endpointv0001\n",
      "deleted endpoint config: news-classification-endpointv0001\n",
      "failed to delete model news-classification-endpointv0001: An error occurred (ValidationException) when calling the DeleteModel operation: Could not find model \"news-classification-endpointv0001\".\n"
     ]
    }
   ],
   "source": [
    "cleanup_sagemaker_endpoint(endpoint_name)"
   ]
  }
 ],
 "metadata": {
  "kernelspec": {
   "display_name": "Python 3 (ipykernel)",
   "language": "python",
   "name": "python3"
  },
  "language_info": {
   "codemirror_mode": {
    "name": "ipython",
    "version": 3
   },
   "file_extension": ".py",
   "mimetype": "text/x-python",
   "name": "python",
   "nbconvert_exporter": "python",
   "pygments_lexer": "ipython3",
   "version": "3.12.9"
  }
 },
 "nbformat": 4,
 "nbformat_minor": 5
}
